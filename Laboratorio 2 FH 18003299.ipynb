{
 "cells": [
  {
   "attachments": {},
   "cell_type": "markdown",
   "metadata": {},
   "source": [
    "### Ejercicio 1 \n",
    "Haga un programa en Python que reciba de parámetro un número de segundos y que despliegue en pantalla, las horas, minutos y segundos que representan. Por ejemplo:\n",
    "- Si el número de segundos recibidos fuera: 2743 entonces su programa debería desplegar:\n",
    "Horas: 0, Minutos: 45 , Segundos: 43\n",
    "- Si el número de segundos recibidos fuera 5871: Horas: 1, Minutos: 37 , Segundos: 51\n"
   ]
  },
  {
   "cell_type": "code",
   "execution_count": 29,
   "metadata": {},
   "outputs": [],
   "source": [
    "def time_seconds(segundos):\n",
    "    time = segundos/3600;\n",
    "    horas = int(time)\n",
    "    minutos  = (time - int(time))*60\n",
    "    seconds = (minutos - int(minutos))*60\n",
    "    tiempo = f\"Horas: {horas}, minutos: {int(minutos)}, segundos: {int(seconds)} \"\n",
    "    print(tiempo)\n"
   ]
  },
  {
   "cell_type": "code",
   "execution_count": 30,
   "metadata": {},
   "outputs": [
    {
     "name": "stdout",
     "output_type": "stream",
     "text": [
      "Horas: 1, minutos: 37, segundos: 51 \n"
     ]
    }
   ],
   "source": [
    "seconds = 5871\n",
    "time_seconds(seconds)"
   ]
  }
 ],
 "metadata": {
  "kernelspec": {
   "display_name": "base",
   "language": "python",
   "name": "python3"
  },
  "language_info": {
   "codemirror_mode": {
    "name": "ipython",
    "version": 3
   },
   "file_extension": ".py",
   "mimetype": "text/x-python",
   "name": "python",
   "nbconvert_exporter": "python",
   "pygments_lexer": "ipython3",
   "version": "3.9.13"
  },
  "orig_nbformat": 4,
  "vscode": {
   "interpreter": {
    "hash": "5b9cf49fa92978537ab9bdff70f1d4ad5fa616dc462fbf1ad2beb85663942639"
   }
  }
 },
 "nbformat": 4,
 "nbformat_minor": 2
}
