{
 "cells": [
  {
   "attachments": {},
   "cell_type": "markdown",
   "metadata": {},
   "source": [
    "### Ejercicio 1 \n",
    "Haga un programa en Python que reciba de parámetro un número de segundos y que despliegue en pantalla, las horas, minutos y segundos que representan. Por ejemplo:\n",
    "- Si el número de segundos recibidos fuera: 2743 entonces su programa debería desplegar:\n",
    "Horas: 0, Minutos: 45 , Segundos: 43\n",
    "- Si el número de segundos recibidos fuera 5871: Horas: 1, Minutos: 37 , Segundos: 51\n"
   ]
  },
  {
   "cell_type": "code",
   "execution_count": 8,
   "metadata": {},
   "outputs": [],
   "source": [
    "def time_seconds(segundos):\n",
    "    time = segundos/3600;\n",
    "    horas = int(time)\n",
    "    minutos  = (time - int(time))*60\n",
    "    seconds = (minutos - int(minutos))*60\n",
    "    tiempo = f\"Horas: {horas}, minutos: {int(minutos)}, segundos: {int(seconds)} \"\n",
    "    print(tiempo)\n"
   ]
  },
  {
   "cell_type": "code",
   "execution_count": 9,
   "metadata": {},
   "outputs": [
    {
     "name": "stdout",
     "output_type": "stream",
     "text": [
      "Horas: 1, minutos: 37, segundos: 51 \n"
     ]
    }
   ],
   "source": [
    "seconds = 5871\n",
    "time_seconds(seconds)"
   ]
  },
  {
   "cell_type": "code",
   "execution_count": 10,
   "metadata": {},
   "outputs": [
    {
     "name": "stdout",
     "output_type": "stream",
     "text": [
      "Horas: 0, minutos: 45, segundos: 43 \n"
     ]
    }
   ],
   "source": [
    "seconds = 2743\n",
    "time_seconds(seconds)"
   ]
  },
  {
   "attachments": {},
   "cell_type": "markdown",
   "metadata": {},
   "source": [
    "### Ejercicio 2\n",
    "Haga una función en Python que dado un número entre 1 y 20. Y un carácter cualquiera\n",
    "despliegue cuatro patrones triangulares."
   ]
  },
  {
   "attachments": {},
   "cell_type": "markdown",
   "metadata": {},
   "source": [
    "### Ejercicio 3\n",
    "Haga un programa en Python que la fecha de nacimiento de una persona (puede ingresar por\n",
    "separado cada valor, es decir pedir primero día, luego mes y luego año), despliegue la edad\n",
    "de la persona en años, meses y días. Su resultado puede ser aproximado"
   ]
  },
  {
   "cell_type": "code",
   "execution_count": 1,
   "metadata": {},
   "outputs": [],
   "source": [
    "import datetime"
   ]
  },
  {
   "cell_type": "code",
   "execution_count": 5,
   "metadata": {},
   "outputs": [],
   "source": [
    "def find_age(day_birth, month_birth,year_birth):\n",
    "    \n",
    "    fecha_actual = datetime.date.today()\n",
    "    dia_actual = fecha_actual.day\n",
    "    mes_actual = fecha_actual.month\n",
    "    year_actual = fecha_actual.year\n",
    "\n",
    "    years_person = year_actual - year_birth\n",
    "    months_person = 0\n",
    "    days_person = 0\n",
    "\n",
    "    if (mes_actual < month_birth):\n",
    "        months_person = (12-month_birth) + mes_actual\n",
    "        years_person = years_person - 1\n",
    "    else:\n",
    "         months_person = mes_actual - month_birth\n",
    "    \n",
    "    if (dia_actual < day_birth):\n",
    "        days_person = day_birth - dia_actual\n",
    "        months_person = months_person - 1\n",
    "    else:\n",
    "        days_person = dia_actual - day_birth\n",
    "\n",
    "\n",
    "    print(f\"Usted tiene la edad de: {years_person} años con {months_person} meses y {days_person} días\")\n",
    "    \n"
   ]
  },
  {
   "cell_type": "code",
   "execution_count": 6,
   "metadata": {},
   "outputs": [
    {
     "name": "stdout",
     "output_type": "stream",
     "text": [
      "Usted tiene la edad de: 22 años con 8 meses y 7 días\n"
     ]
    }
   ],
   "source": [
    "day_birth = int(input(\"Ingrese dia de nacimiento: \"))\n",
    "month_birth = int(input(\"Ingrese mes de nacimiento: \"))\n",
    "year_birth = int(input(\"Ingrese año de nacimiento: \"))\n",
    "#Test de Prueba fecha de nacimiento 17/06/2000\n",
    "find_age(day_birth, month_birth,year_birth)"
   ]
  },
  {
   "cell_type": "code",
   "execution_count": 7,
   "metadata": {},
   "outputs": [
    {
     "name": "stdout",
     "output_type": "stream",
     "text": [
      "Usted tiene la edad de: 23 años con 2 meses y 3 días\n"
     ]
    }
   ],
   "source": [
    "day_birth = int(input(\"Ingrese dia de nacimiento: \"))\n",
    "month_birth = int(input(\"Ingrese mes de nacimiento: \"))\n",
    "year_birth = int(input(\"Ingrese año de nacimiento: \"))\n",
    "#Test de Prueba fecha de nacimiento 21/12/1999\n",
    "find_age(day_birth, month_birth,year_birth)"
   ]
  },
  {
   "attachments": {},
   "cell_type": "markdown",
   "metadata": {},
   "source": [
    "### Ejercicio 4\n",
    "Escriba una función en Python que dada una tupla de elementos (números o letras) esta se\n",
    "convierta a un string. Tomar nota del siguiente ejemplo:\n",
    "- Si la entrada fuera: (10, 20, 40, 5, 70)\n",
    "- La salida debería ser: 102040570"
   ]
  },
  {
   "attachments": {},
   "cell_type": "markdown",
   "metadata": {},
   "source": [
    "### Ejercicio 5\n",
    "Cree un programa en Python que dada una lista de tuplas, elimine las tuplas que están vacías.\n",
    "Tomar nota del siguiente ejemplo:\n",
    "- Si la lista fuera: [(), (), (’X’,), (’a’, ’b’), (’a’, ’b’, ’c’), (’d’)]\n",
    "- El resultado deber´ıa ser: [(’X’), (’a’, ’b’), (’a’, ’b’, ’c’), ’d’]"
   ]
  },
  {
   "attachments": {},
   "cell_type": "markdown",
   "metadata": {},
   "source": [
    "### Ejercicio 6\n",
    "Cree una función en Python que dada una tupla de tuplas con números, produzca una tupla\n",
    "con el promedio de cada tupla individual. Tomar nota del siguiente ejemplo:\n",
    "- Si la tupla de entrada fuera: ((10, 10, 10, 12), (30, 45, 56, 45), (81, 80, 39, 32))\n",
    "- El resultado debería ser: (10.5, 44, 58)"
   ]
  },
  {
   "attachments": {},
   "cell_type": "markdown",
   "metadata": {},
   "source": [
    "### Ejercicio 7\n",
    "Escribir un programa que gestione las facturas pendientes de cobro de una empresa. Las\n",
    "facturas se almacenarían en un diccionario donde la llave de cada factura sería el número de\n",
    "factura (debe utilizar un numero de 4 dígitos) y el valor el coste de la factura..."
   ]
  },
  {
   "attachments": {},
   "cell_type": "markdown",
   "metadata": {},
   "source": [
    "### Ejercicio 8\n",
    "Haga una función en Python, que cree un set con todas las cartas de una baraja de Pocker utilizando el siguiente formato: Tipo-Numero. Utilice las letras T para tréboles, C para corazones, P para picas y E para espadas. Para los números utilice la numeración del 1 al 13. Por ejemplo E13 - sería Rey de Espadas, P01 sería As de Picas, T05 sería cinco de Tréboles."
   ]
  }
 ],
 "metadata": {
  "kernelspec": {
   "display_name": "base",
   "language": "python",
   "name": "python3"
  },
  "language_info": {
   "codemirror_mode": {
    "name": "ipython",
    "version": 3
   },
   "file_extension": ".py",
   "mimetype": "text/x-python",
   "name": "python",
   "nbconvert_exporter": "python",
   "pygments_lexer": "ipython3",
   "version": "3.9.13"
  },
  "orig_nbformat": 4,
  "vscode": {
   "interpreter": {
    "hash": "5b9cf49fa92978537ab9bdff70f1d4ad5fa616dc462fbf1ad2beb85663942639"
   }
  }
 },
 "nbformat": 4,
 "nbformat_minor": 2
}
